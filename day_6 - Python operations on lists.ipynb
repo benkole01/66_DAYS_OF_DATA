{
 "cells": [
  {
   "cell_type": "markdown",
   "metadata": {},
   "source": [
    "# Basic Python Operations on Lists\n",
    "- There are many operations/computations that you can perform on Python's list objects. \n",
    "- In this Jupyter notebook, I will look at some of the basic and easy ones to do. Most of these operations are methods.\n",
    "- I will look at *.append()*, *.insert()*, *.index()*, *.pop()* and *.sort()* methods."
   ]
  },
  {
   "cell_type": "code",
   "execution_count": 1,
   "metadata": {},
   "outputs": [],
   "source": [
    "# create a list of numbers\n",
    "num_list = [30,40,50,60,10,20]"
   ]
  },
  {
   "cell_type": "markdown",
   "metadata": {},
   "source": [
    "Before we can get into the list methods, it might be great showing you some of general Python concepts like index, slicing and getting length (number of items) of a list."
   ]
  },
  {
   "cell_type": "code",
   "execution_count": 2,
   "metadata": {},
   "outputs": [
    {
     "data": {
      "text/plain": [
       "6"
      ]
     },
     "execution_count": 2,
     "metadata": {},
     "output_type": "execute_result"
    }
   ],
   "source": [
    "# we use the len() function to get length of objects\n",
    "len(num_list)"
   ]
  },
  {
   "cell_type": "code",
   "execution_count": 3,
   "metadata": {},
   "outputs": [
    {
     "data": {
      "text/plain": [
       "50"
      ]
     },
     "execution_count": 3,
     "metadata": {},
     "output_type": "execute_result"
    }
   ],
   "source": [
    "# grab the value at index 2 in the list\n",
    "# Python index positions start at 0\n",
    "num_list[2]"
   ]
  },
  {
   "cell_type": "code",
   "execution_count": 4,
   "metadata": {},
   "outputs": [
    {
     "data": {
      "text/plain": [
       "30"
      ]
     },
     "execution_count": 4,
     "metadata": {},
     "output_type": "execute_result"
    }
   ],
   "source": [
    "num_list[0]"
   ]
  },
  {
   "cell_type": "code",
   "execution_count": 5,
   "metadata": {},
   "outputs": [
    {
     "data": {
      "text/plain": [
       "[50, 60, 10]"
      ]
     },
     "execution_count": 5,
     "metadata": {},
     "output_type": "execute_result"
    }
   ],
   "source": [
    "# grab items from 2nd index through 5th index positions (slicing)\n",
    "num_list[2:5]"
   ]
  },
  {
   "cell_type": "markdown",
   "metadata": {},
   "source": [
    "## *.append()*\n",
    "\n",
    "- .append() method is used to add (append) a new item/value at the end of the current list.\n",
    "\n",
    "- This method only takes one argument, i.e object. Object is basically the item/value that you want to add at the end of the list."
   ]
  },
  {
   "cell_type": "code",
   "execution_count": 6,
   "metadata": {},
   "outputs": [
    {
     "name": "stdout",
     "output_type": "stream",
     "text": [
      "[30, 40, 50, 60, 10, 20]\n"
     ]
    }
   ],
   "source": [
    "# let's check our current list\n",
    "print(num_list)"
   ]
  },
  {
   "cell_type": "code",
   "execution_count": 7,
   "metadata": {},
   "outputs": [],
   "source": [
    "# add a string 'ben' at the end of the list\n",
    "num_list.append('read')"
   ]
  },
  {
   "cell_type": "code",
   "execution_count": 8,
   "metadata": {},
   "outputs": [
    {
     "name": "stdout",
     "output_type": "stream",
     "text": [
      "[30, 40, 50, 60, 10, 20, 'read']\n"
     ]
    }
   ],
   "source": [
    "# check the list again\n",
    "print(num_list)"
   ]
  },
  {
   "cell_type": "markdown",
   "metadata": {},
   "source": [
    "You realize that a string called 'read' has been added to our previous list, using the method *.append()*. This item 'read' is now part of the list."
   ]
  },
  {
   "cell_type": "markdown",
   "metadata": {},
   "source": [
    "## *.insert()*\n",
    "- The *.insert()* method is used to insert new items/values before certain index positions.\n",
    "- It takes two arguments i.e index and object. The index argument lets you specify the index position, while the object is the item you want to add before the specified index position."
   ]
  },
  {
   "cell_type": "code",
   "execution_count": 9,
   "metadata": {},
   "outputs": [],
   "source": [
    "# inser a string 'sleep' before index position 4 in the list\n",
    "num_list.insert(4, 'sleep')"
   ]
  },
  {
   "cell_type": "code",
   "execution_count": 10,
   "metadata": {},
   "outputs": [
    {
     "name": "stdout",
     "output_type": "stream",
     "text": [
      "[30, 40, 50, 60, 'sleep', 10, 20, 'read']\n"
     ]
    }
   ],
   "source": [
    "# check what happens to the list\n",
    "print(num_list)"
   ]
  },
  {
   "cell_type": "markdown",
   "metadata": {},
   "source": [
    "You realize that the value 10 was originally at index position 4. By inserting a new item 'sleep' before this value 10, the new item 'sleep' takes position 4 and the value 10 is now pushed to position 5. (When I say position I literally mean the index)"
   ]
  },
  {
   "cell_type": "markdown",
   "metadata": {},
   "source": [
    "## *.pop()*\n",
    "- *.pop()* method removes and return item(s) at specified index positions.\n",
    "- These items are permanently removed (popped) from the list.\n",
    "- The method takes one argument, i.e index. By default, items at index -1 are removed. The item at index -1 is basically the last item at the list."
   ]
  },
  {
   "cell_type": "code",
   "execution_count": 11,
   "metadata": {
    "scrolled": true
   },
   "outputs": [
    {
     "name": "stdout",
     "output_type": "stream",
     "text": [
      "[30, 40, 50, 60, 'sleep', 10, 20, 'read']\n"
     ]
    }
   ],
   "source": [
    "# let's view our list\n",
    "print(num_list)"
   ]
  },
  {
   "cell_type": "code",
   "execution_count": 12,
   "metadata": {},
   "outputs": [
    {
     "data": {
      "text/plain": [
       "'read'"
      ]
     },
     "execution_count": 12,
     "metadata": {},
     "output_type": "execute_result"
    }
   ],
   "source": [
    "# call the .pop() method on the list without specifying any index position\n",
    "# i.e run it in its default functioning\n",
    "num_list.pop()"
   ]
  },
  {
   "cell_type": "code",
   "execution_count": 13,
   "metadata": {},
   "outputs": [
    {
     "name": "stdout",
     "output_type": "stream",
     "text": [
      "[30, 40, 50, 60, 'sleep', 10, 20]\n"
     ]
    }
   ],
   "source": [
    "# check the list again\n",
    "print(num_list)"
   ]
  },
  {
   "cell_type": "markdown",
   "metadata": {},
   "source": [
    "You realize that by default, value 'read' which was our last item in the list, has been removed (or popped)."
   ]
  },
  {
   "cell_type": "code",
   "execution_count": 14,
   "metadata": {},
   "outputs": [
    {
     "data": {
      "text/plain": [
       "30"
      ]
     },
     "execution_count": 14,
     "metadata": {},
     "output_type": "execute_result"
    }
   ],
   "source": [
    "# pop the first item in the list, i.e index 0\n",
    "num_list.pop(0)"
   ]
  },
  {
   "cell_type": "code",
   "execution_count": 15,
   "metadata": {},
   "outputs": [
    {
     "name": "stdout",
     "output_type": "stream",
     "text": [
      "[40, 50, 60, 'sleep', 10, 20]\n"
     ]
    }
   ],
   "source": [
    "# check to see what happened\n",
    "print(num_list)"
   ]
  },
  {
   "cell_type": "markdown",
   "metadata": {},
   "source": [
    "## *.index()*\n",
    "- *.index()* method returns the first index at which a certain value/item appeared in the list.\n",
    "- Basically, we ask ourselves, **'at what index position did a certain value X made its first appearance in the list'**?\n",
    "- To illustrate this, we need to create a list with some values repeated at different index positions in the list.\n",
    "- This method requires one argument, i.e value. Value is basically the item that you want to find its first appearance index position. It's therefore important to input a value that is in your list."
   ]
  },
  {
   "cell_type": "code",
   "execution_count": 16,
   "metadata": {},
   "outputs": [],
   "source": [
    "repeat_list = [2, 3, 4, 6, 4, 1, 2]"
   ]
  },
  {
   "cell_type": "code",
   "execution_count": 17,
   "metadata": {},
   "outputs": [
    {
     "name": "stdout",
     "output_type": "stream",
     "text": [
      "[2, 3, 4, 6, 4, 1, 2]\n"
     ]
    }
   ],
   "source": [
    "print(repeat_list)"
   ]
  },
  {
   "cell_type": "markdown",
   "metadata": {},
   "source": [
    "We have values 2 and 4 repeated at different index positions in the list."
   ]
  },
  {
   "cell_type": "code",
   "execution_count": 18,
   "metadata": {},
   "outputs": [
    {
     "data": {
      "text/plain": [
       "0"
      ]
     },
     "execution_count": 18,
     "metadata": {},
     "output_type": "execute_result"
    }
   ],
   "source": [
    "# check the first appearance index position of value 2\n",
    "repeat_list.index(2)"
   ]
  },
  {
   "cell_type": "code",
   "execution_count": 19,
   "metadata": {},
   "outputs": [
    {
     "data": {
      "text/plain": [
       "2"
      ]
     },
     "execution_count": 19,
     "metadata": {},
     "output_type": "execute_result"
    }
   ],
   "source": [
    "# check the first appearance index position of value 4\n",
    "repeat_list.index(4)"
   ]
  },
  {
   "cell_type": "markdown",
   "metadata": {},
   "source": [
    "Value 2 made its first appearance in the list at index position 0, while value 4 made its first appearance at index position 2."
   ]
  },
  {
   "cell_type": "markdown",
   "metadata": {},
   "source": [
    "## *.sort()*\n",
    "- The *.sort()* method is used to permanently sort item in a list in an ascending order.\n",
    "- The trick here however is that the items in the list must be of one data type, i.e either they are strings only or numbers only."
   ]
  },
  {
   "cell_type": "code",
   "execution_count": 20,
   "metadata": {},
   "outputs": [],
   "source": [
    "# create a new list of numbers\n",
    "numbers_list = [1,2,60, 20, 1000]"
   ]
  },
  {
   "cell_type": "code",
   "execution_count": 21,
   "metadata": {},
   "outputs": [],
   "source": [
    "# sort the list of numbers\n",
    "numbers_list.sort()"
   ]
  },
  {
   "cell_type": "code",
   "execution_count": 22,
   "metadata": {},
   "outputs": [
    {
     "name": "stdout",
     "output_type": "stream",
     "text": [
      "[1, 2, 20, 60, 1000]\n"
     ]
    }
   ],
   "source": [
    "# check what happens to the list\n",
    "print(numbers_list)"
   ]
  },
  {
   "cell_type": "markdown",
   "metadata": {},
   "source": [
    "The list is now sorted in ascending order."
   ]
  },
  {
   "cell_type": "code",
   "execution_count": 23,
   "metadata": {},
   "outputs": [],
   "source": [
    "# create a list of some animals\n",
    "animal_list = ['dog', 'pig', 'cat']"
   ]
  },
  {
   "cell_type": "code",
   "execution_count": 24,
   "metadata": {},
   "outputs": [],
   "source": [
    "# sort the list\n",
    "animal_list.sort()"
   ]
  },
  {
   "cell_type": "code",
   "execution_count": 25,
   "metadata": {},
   "outputs": [
    {
     "name": "stdout",
     "output_type": "stream",
     "text": [
      "['cat', 'dog', 'pig']\n"
     ]
    }
   ],
   "source": [
    "# what happens?\n",
    "print(animal_list)"
   ]
  },
  {
   "cell_type": "markdown",
   "metadata": {},
   "source": [
    "## Thanks for going through!!!"
   ]
  }
 ],
 "metadata": {
  "kernelspec": {
   "display_name": "Python 3",
   "language": "python",
   "name": "python3"
  },
  "language_info": {
   "codemirror_mode": {
    "name": "ipython",
    "version": 3
   },
   "file_extension": ".py",
   "mimetype": "text/x-python",
   "name": "python",
   "nbconvert_exporter": "python",
   "pygments_lexer": "ipython3",
   "version": "3.8.5"
  }
 },
 "nbformat": 4,
 "nbformat_minor": 4
}
