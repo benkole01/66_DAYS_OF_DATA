{
 "cells": [
  {
   "cell_type": "markdown",
   "metadata": {},
   "source": [
    "# A Simple OOP Example in Python"
   ]
  },
  {
   "cell_type": "code",
   "execution_count": 1,
   "metadata": {},
   "outputs": [],
   "source": [
    "class Bodybuilder:\n",
    "    \"\"\"\n",
    "    This builds a bodybuilder class.\n",
    "    A bodybuilder has a name, weighs certain amount of pounds \n",
    "    ,and attends a certain gym.\n",
    "    \"\"\"\n",
    "    def __init__(self, name, weight, gym):\n",
    "        self.name = name\n",
    "        self.weight = weight\n",
    "        self.gym = gym\n",
    "     \n",
    "   # a bodybuilder can add, maintain or lose weight \n",
    "    def add_lose_weight(self, new_weight):\n",
    "        added_weight = new_weight - self.weight\n",
    "        if new_weight>self.weight:\n",
    "            return f'{self.name} added a weight of {added_weight} pounds.'\n",
    "        elif new_weight==self.weight:\n",
    "            return f'{self.name} maintained weight.'\n",
    "        else:\n",
    "            return f'{self.name} lost a weight of {added_weight} pounds.'\n",
    "    \n",
    "    # This is the string representation of the class\n",
    "    def __str__(self):\n",
    "        return f'Name: {self.name} \\nWeight:{self.weight} pounds \\nGym Attending: {self.gym}'"
   ]
  },
  {
   "cell_type": "code",
   "execution_count": 2,
   "metadata": {},
   "outputs": [],
   "source": [
    "# This is an object of the Bodybuilder class\n",
    "# It's a bodybuilder named Yu\n",
    "Yu = Bodybuilder('Yu', 180, 'Alphallete')"
   ]
  },
  {
   "cell_type": "code",
   "execution_count": 3,
   "metadata": {},
   "outputs": [
    {
     "data": {
      "text/plain": [
       "__main__.Bodybuilder"
      ]
     },
     "execution_count": 3,
     "metadata": {},
     "output_type": "execute_result"
    }
   ],
   "source": [
    "type(Yu)"
   ]
  },
  {
   "cell_type": "code",
   "execution_count": 4,
   "metadata": {},
   "outputs": [
    {
     "name": "stdout",
     "output_type": "stream",
     "text": [
      "Name: Yu \n",
      "Weight:180 pounds \n",
      "Gym Attending: Alphallete\n"
     ]
    }
   ],
   "source": [
    "# print the string representation of the Bodybuilder class\n",
    "print(Yu)"
   ]
  },
  {
   "cell_type": "code",
   "execution_count": 5,
   "metadata": {},
   "outputs": [
    {
     "data": {
      "text/plain": [
       "'Yu maintained weight.'"
      ]
     },
     "execution_count": 5,
     "metadata": {},
     "output_type": "execute_result"
    }
   ],
   "source": [
    "# Yu currently weighs 180 pounds\n",
    "# What is the deviation from his original weight?\n",
    "Yu.add_lose_weight(180)"
   ]
  },
  {
   "cell_type": "code",
   "execution_count": 6,
   "metadata": {},
   "outputs": [
    {
     "data": {
      "text/plain": [
       "'Yu lost a weight of -80 pounds.'"
      ]
     },
     "execution_count": 6,
     "metadata": {},
     "output_type": "execute_result"
    }
   ],
   "source": [
    "# Yu currently weighs 100 pounds\n",
    "# What is the deviation from his original weight?\n",
    "Yu.add_lose_weight(100)"
   ]
  },
  {
   "cell_type": "code",
   "execution_count": 7,
   "metadata": {},
   "outputs": [
    {
     "data": {
      "text/plain": [
       "'Yu added a weight of 20 pounds.'"
      ]
     },
     "execution_count": 7,
     "metadata": {},
     "output_type": "execute_result"
    }
   ],
   "source": [
    "# Yu currently weighs 200 pounds\n",
    "# What is the deviation from his original weight?\n",
    "Yu.add_lose_weight(200)"
   ]
  },
  {
   "cell_type": "code",
   "execution_count": null,
   "metadata": {},
   "outputs": [],
   "source": []
  }
 ],
 "metadata": {
  "kernelspec": {
   "display_name": "Python 3",
   "language": "python",
   "name": "python3"
  },
  "language_info": {
   "codemirror_mode": {
    "name": "ipython",
    "version": 3
   },
   "file_extension": ".py",
   "mimetype": "text/x-python",
   "name": "python",
   "nbconvert_exporter": "python",
   "pygments_lexer": "ipython3",
   "version": "3.8.5"
  }
 },
 "nbformat": 4,
 "nbformat_minor": 4
}
