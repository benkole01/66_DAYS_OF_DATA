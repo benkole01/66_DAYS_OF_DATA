{
 "cells": [
  {
   "cell_type": "markdown",
   "metadata": {},
   "source": [
    "# Polymorphism Concept of OOP\n",
    "- Different class objects might share same method name(s). This is called **polymorphism**.\n",
    "- A key thing to note here is that, despite the classes sharing same method name, the method might be performing different tasks for each class object.\n",
    "- Let's say we have two athletes, a footballer and a bodybuilder. They have one thing in common. They train."
   ]
  },
  {
   "cell_type": "code",
   "execution_count": 1,
   "metadata": {},
   "outputs": [],
   "source": [
    "# CREATE A FOOTBALLER CLASS\n",
    "class Footballer():\n",
    "    def __init__(self, name, weight):\n",
    "        self.name = name\n",
    "        self.weight = weight\n",
    "        \n",
    "    # A FOOTBALLER TRAINS\n",
    "    def train(self):\n",
    "        print('My name is {}. I am {} pounds and I train in the football pitch!'.format(self.name, self.weight))"
   ]
  },
  {
   "cell_type": "code",
   "execution_count": 2,
   "metadata": {},
   "outputs": [],
   "source": [
    "Kante = Footballer('Kante', 150)"
   ]
  },
  {
   "cell_type": "code",
   "execution_count": 3,
   "metadata": {},
   "outputs": [
    {
     "data": {
      "text/plain": [
       "__main__.Footballer"
      ]
     },
     "execution_count": 3,
     "metadata": {},
     "output_type": "execute_result"
    }
   ],
   "source": [
    "type(Kante)"
   ]
  },
  {
   "cell_type": "code",
   "execution_count": 4,
   "metadata": {},
   "outputs": [
    {
     "name": "stdout",
     "output_type": "stream",
     "text": [
      "My name is Kante. I am 150 pounds and I train in the football pitch!\n"
     ]
    }
   ],
   "source": [
    "# Execute the train method in the Footballer object\n",
    "Kante.train()"
   ]
  },
  {
   "cell_type": "code",
   "execution_count": 5,
   "metadata": {},
   "outputs": [],
   "source": [
    "# CREATE A BODYBUILDER CLASS\n",
    "class Bodybuilder():\n",
    "    def __init__(self, name, weight):\n",
    "        self.name = name\n",
    "        self.weight = weight\n",
    "        \n",
    "    # A BODYBUILDER ALSO TRAINS\n",
    "    def train(self):\n",
    "        print('My name is {}. I am {} pounds and I train in the GYM!'.format(self.name, self.weight))"
   ]
  },
  {
   "cell_type": "code",
   "execution_count": 6,
   "metadata": {},
   "outputs": [],
   "source": [
    "Beast = Bodybuilder('Beast', 200)"
   ]
  },
  {
   "cell_type": "code",
   "execution_count": 7,
   "metadata": {},
   "outputs": [
    {
     "data": {
      "text/plain": [
       "__main__.Bodybuilder"
      ]
     },
     "execution_count": 7,
     "metadata": {},
     "output_type": "execute_result"
    }
   ],
   "source": [
    "type(Beast)"
   ]
  },
  {
   "cell_type": "code",
   "execution_count": 8,
   "metadata": {},
   "outputs": [
    {
     "name": "stdout",
     "output_type": "stream",
     "text": [
      "My name is Beast. I am 200 pounds and I train in the GYM!\n"
     ]
    }
   ],
   "source": [
    "# Execute the train method in the Bodybuilder object\n",
    "Beast.train()"
   ]
  },
  {
   "cell_type": "code",
   "execution_count": 9,
   "metadata": {},
   "outputs": [
    {
     "name": "stdout",
     "output_type": "stream",
     "text": [
      "<class '__main__.Footballer'>\n",
      "My name is Kante. I am 150 pounds and I train in the football pitch!\n",
      "None\n",
      "<class '__main__.Bodybuilder'>\n",
      "My name is Beast. I am 200 pounds and I train in the GYM!\n",
      "None\n"
     ]
    }
   ],
   "source": [
    "# Remember, Bodybuilder and Footballer are two different classes sharing one method name\n",
    "# Let's show that in a loop\n",
    "for athlete in [Kante, Beast]:\n",
    "    print(type(athlete))\n",
    "    print(athlete.train())"
   ]
  },
  {
   "cell_type": "code",
   "execution_count": 10,
   "metadata": {},
   "outputs": [],
   "source": [
    "# WE COULD ALSO CREATE A FUNCTION TO EXECUTE THE METHOD FOR EACH OBJECT CALLED ON IT\n",
    "def train_execute(athlete):\n",
    "    return athlete.train()"
   ]
  },
  {
   "cell_type": "code",
   "execution_count": 11,
   "metadata": {},
   "outputs": [
    {
     "name": "stdout",
     "output_type": "stream",
     "text": [
      "My name is Kante. I am 150 pounds and I train in the football pitch!\n"
     ]
    }
   ],
   "source": [
    "train_execute(Kante)"
   ]
  },
  {
   "cell_type": "code",
   "execution_count": 12,
   "metadata": {},
   "outputs": [
    {
     "name": "stdout",
     "output_type": "stream",
     "text": [
      "My name is Beast. I am 200 pounds and I train in the GYM!\n"
     ]
    }
   ],
   "source": [
    "train_execute(Beast)"
   ]
  },
  {
   "cell_type": "code",
   "execution_count": null,
   "metadata": {},
   "outputs": [],
   "source": []
  }
 ],
 "metadata": {
  "kernelspec": {
   "display_name": "Python 3",
   "language": "python",
   "name": "python3"
  },
  "language_info": {
   "codemirror_mode": {
    "name": "ipython",
    "version": 3
   },
   "file_extension": ".py",
   "mimetype": "text/x-python",
   "name": "python",
   "nbconvert_exporter": "python",
   "pygments_lexer": "ipython3",
   "version": "3.8.5"
  }
 },
 "nbformat": 4,
 "nbformat_minor": 4
}
