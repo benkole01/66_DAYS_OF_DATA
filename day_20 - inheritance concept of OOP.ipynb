{
 "cells": [
  {
   "cell_type": "markdown",
   "metadata": {},
   "source": [
    "# Inheritance\n",
    "- In this Jupyter notebook, I focus much on the concept of **Inheritance in Object Oriented Programming**.\n",
    "- However, I have also incorporated concepts of adding **docstrings for documentation**, and also the concept of **string formatting in Python** (an intelligent newbie who doesn't understand what I am talking about will put Google skills in practice here)."
   ]
  },
  {
   "cell_type": "markdown",
   "metadata": {},
   "source": [
    "## Create a Parent Class"
   ]
  },
  {
   "cell_type": "code",
   "execution_count": 1,
   "metadata": {},
   "outputs": [],
   "source": [
    "class Athlete:\n",
    "    \"\"\"\n",
    "    This builds a generic class for a given athlete X.\n",
    "    An athlete has a name and weighs certain amount of pounds.\n",
    "    \"\"\"\n",
    "    def __init__(self, name, initial_weight):\n",
    "        self.name = name\n",
    "        self.initial_weight = initial_weight\n",
    "        print('I AM AN ATHLETE!')\n",
    "     \n",
    "   # an athlete can add, maintain or lose weight \n",
    "    def add_lose_weight(self, new_weight):\n",
    "        \"\"\"This method takes an athlete's new weight, and\n",
    "        compares it with their initial weight. If the new weight\n",
    "        is greater than the initial weight, then an athlete is said\n",
    "        to have added weight. On the flip side, if the new weight\n",
    "        is less than the initial weight, then an athlete is said\n",
    "        to have lost weight. Otherwise if the new weight and initial \n",
    "        weight are the same, an athlete has maintained weight.\n",
    "        \"\"\"\n",
    "        added_weight = new_weight - self.initial_weight\n",
    "        if new_weight>self.initial_weight:\n",
    "            return f'{self.name} added a weight of {added_weight} pounds.'\n",
    "        elif new_weight==self.initial_weight:\n",
    "            return f'{self.name} maintained weight.'\n",
    "        else:\n",
    "            return f'{self.name} lost a weight of {added_weight} pounds.'\n",
    "    \n",
    "    # This is the string representation of the class\n",
    "    def __str__(self):\n",
    "        return f'Name: {self.name} \\nInitial Weight:{self.initial_weight}'"
   ]
  },
  {
   "cell_type": "code",
   "execution_count": 2,
   "metadata": {},
   "outputs": [
    {
     "name": "stdout",
     "output_type": "stream",
     "text": [
      "I AM AN ATHLETE!\n"
     ]
    }
   ],
   "source": [
    "Max = Athlete(name='Max', initial_weight=170)"
   ]
  },
  {
   "cell_type": "code",
   "execution_count": 3,
   "metadata": {},
   "outputs": [
    {
     "data": {
      "text/plain": [
       "'Max'"
      ]
     },
     "execution_count": 3,
     "metadata": {},
     "output_type": "execute_result"
    }
   ],
   "source": [
    "Max.name"
   ]
  },
  {
   "cell_type": "code",
   "execution_count": 4,
   "metadata": {},
   "outputs": [
    {
     "data": {
      "text/plain": [
       "170"
      ]
     },
     "execution_count": 4,
     "metadata": {},
     "output_type": "execute_result"
    }
   ],
   "source": [
    "Max.initial_weight"
   ]
  },
  {
   "cell_type": "code",
   "execution_count": 5,
   "metadata": {},
   "outputs": [
    {
     "name": "stdout",
     "output_type": "stream",
     "text": [
      "Name: Max \n",
      "Initial Weight:170\n"
     ]
    }
   ],
   "source": [
    "print(Max)"
   ]
  },
  {
   "cell_type": "code",
   "execution_count": 6,
   "metadata": {},
   "outputs": [
    {
     "data": {
      "text/plain": [
       "'Max added a weight of 10 pounds.'"
      ]
     },
     "execution_count": 6,
     "metadata": {},
     "output_type": "execute_result"
    }
   ],
   "source": [
    "Max.add_lose_weight(180)"
   ]
  },
  {
   "cell_type": "code",
   "execution_count": 7,
   "metadata": {},
   "outputs": [
    {
     "data": {
      "text/plain": [
       "'Max lost a weight of -20 pounds.'"
      ]
     },
     "execution_count": 7,
     "metadata": {},
     "output_type": "execute_result"
    }
   ],
   "source": [
    "Max.add_lose_weight(150)"
   ]
  },
  {
   "cell_type": "code",
   "execution_count": 8,
   "metadata": {
    "scrolled": true
   },
   "outputs": [
    {
     "data": {
      "text/plain": [
       "'Max maintained weight.'"
      ]
     },
     "execution_count": 8,
     "metadata": {},
     "output_type": "execute_result"
    }
   ],
   "source": [
    "Max.add_lose_weight(170)"
   ]
  },
  {
   "cell_type": "markdown",
   "metadata": {},
   "source": [
    "## Create Children Classes\n",
    "- A child class inherits from a parent class. \n",
    "- What this basically means is that, an instance of the class (child) that inherits from another class (parent) takes arguments and methods of the parent class by default. The child class can however add new methods to itself or overwrite the methods from the parent class. An example code would illustrate this well."
   ]
  },
  {
   "cell_type": "code",
   "execution_count": 9,
   "metadata": {},
   "outputs": [],
   "source": [
    "# THIS FOOTBALLER CLASS ALSO INHERITS FROM THE ATHLETE CLASS\n",
    "class Footballer(Athlete):\n",
    "    def __init__(self, name, initial_weight):\n",
    "        Athlete.__init__(self, name, initial_weight)\n",
    "        print('I AM A FOOTBALLER!')\n",
    "        \n",
    "    # ADD A NEW METHOD TO THE FOOTBALLER CLASS\n",
    "    # A FOOTBALLER CAN CHANGE CLUB\n",
    "    def change_club(self):\n",
    "        print('{} moved to a new club!'.format(self.name))"
   ]
  },
  {
   "cell_type": "code",
   "execution_count": 10,
   "metadata": {},
   "outputs": [
    {
     "name": "stdout",
     "output_type": "stream",
     "text": [
      "I AM AN ATHLETE!\n",
      "I AM A FOOTBALLER!\n"
     ]
    }
   ],
   "source": [
    "Messi = Footballer('Messi', 180)"
   ]
  },
  {
   "cell_type": "code",
   "execution_count": 11,
   "metadata": {},
   "outputs": [
    {
     "name": "stdout",
     "output_type": "stream",
     "text": [
      "Name: Messi \n",
      "Initial Weight:180\n"
     ]
    }
   ],
   "source": [
    "print(Messi)"
   ]
  },
  {
   "cell_type": "code",
   "execution_count": 12,
   "metadata": {},
   "outputs": [
    {
     "data": {
      "text/plain": [
       "'Messi added a weight of 15 pounds.'"
      ]
     },
     "execution_count": 12,
     "metadata": {},
     "output_type": "execute_result"
    }
   ],
   "source": [
    "Messi.add_lose_weight(195)"
   ]
  },
  {
   "cell_type": "code",
   "execution_count": 13,
   "metadata": {},
   "outputs": [
    {
     "data": {
      "text/plain": [
       "'Messi lost a weight of -7 pounds.'"
      ]
     },
     "execution_count": 13,
     "metadata": {},
     "output_type": "execute_result"
    }
   ],
   "source": [
    "Messi.add_lose_weight(173)"
   ]
  },
  {
   "cell_type": "code",
   "execution_count": 14,
   "metadata": {},
   "outputs": [
    {
     "name": "stdout",
     "output_type": "stream",
     "text": [
      "Messi moved to a new club!\n"
     ]
    }
   ],
   "source": [
    "Messi.change_club()"
   ]
  },
  {
   "cell_type": "code",
   "execution_count": 15,
   "metadata": {},
   "outputs": [],
   "source": [
    "# THIS BODYBUILDER CLASS INHERITS FROM THE ATHLETE CLASS\n",
    "class Bodybuilder(Athlete):\n",
    "    def __init__(self, name, initial_weight):\n",
    "        Athlete.__init__(self, name, initial_weight)\n",
    "        print('I AM A BODYBUILDER!')\n",
    "        \n",
    "    # OVERWRITE THE ADD_LOSE_WEIGHT METHOD FROM THE ATHLETE CLASS\n",
    "    # LET THIS METHOD JUST PRINT A STATEMENT\n",
    "    def add_lose_weight(self, new_weight):\n",
    "        print(f'{self.name} now weighs {new_weight} pounds.')"
   ]
  },
  {
   "cell_type": "code",
   "execution_count": 16,
   "metadata": {},
   "outputs": [
    {
     "name": "stdout",
     "output_type": "stream",
     "text": [
      "I AM AN ATHLETE!\n",
      "I AM A BODYBUILDER!\n"
     ]
    }
   ],
   "source": [
    "Rock = Bodybuilder('Rock', 300)"
   ]
  },
  {
   "cell_type": "code",
   "execution_count": 17,
   "metadata": {},
   "outputs": [
    {
     "name": "stdout",
     "output_type": "stream",
     "text": [
      "Name: Rock \n",
      "Initial Weight:300\n"
     ]
    }
   ],
   "source": [
    "print(Rock)"
   ]
  },
  {
   "cell_type": "code",
   "execution_count": 18,
   "metadata": {},
   "outputs": [
    {
     "name": "stdout",
     "output_type": "stream",
     "text": [
      "Rock now weighs 350 pounds.\n"
     ]
    }
   ],
   "source": [
    "Rock.add_lose_weight(350)"
   ]
  },
  {
   "cell_type": "code",
   "execution_count": 19,
   "metadata": {},
   "outputs": [
    {
     "name": "stdout",
     "output_type": "stream",
     "text": [
      "Rock now weighs 295 pounds.\n"
     ]
    }
   ],
   "source": [
    "Rock.add_lose_weight(295)"
   ]
  },
  {
   "cell_type": "code",
   "execution_count": null,
   "metadata": {},
   "outputs": [],
   "source": []
  }
 ],
 "metadata": {
  "kernelspec": {
   "display_name": "Python 3",
   "language": "python",
   "name": "python3"
  },
  "language_info": {
   "codemirror_mode": {
    "name": "ipython",
    "version": 3
   },
   "file_extension": ".py",
   "mimetype": "text/x-python",
   "name": "python",
   "nbconvert_exporter": "python",
   "pygments_lexer": "ipython3",
   "version": "3.8.5"
  }
 },
 "nbformat": 4,
 "nbformat_minor": 4
}
