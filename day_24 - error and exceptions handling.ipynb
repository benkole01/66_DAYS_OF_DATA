{
 "cells": [
  {
   "cell_type": "markdown",
   "metadata": {},
   "source": [
    "# Error and Exceptions Handling"
   ]
  },
  {
   "cell_type": "code",
   "execution_count": 1,
   "metadata": {},
   "outputs": [],
   "source": [
    "# CREATE A FUNCTION THAT REQUIRES A USER TO PROVIDE THEIR FAVORITE NUMBER\n",
    "def favorite_number():\n",
    "    while True:\n",
    "        # TRY THIS CODE FIRST\n",
    "        try:\n",
    "            ask = int(input('What is your favorite number? '))\n",
    "        # IF THERE IS AN ERROR, RUN THIS  \n",
    "        except:\n",
    "            print('Sorry! Please insert a number!')\n",
    "            continue\n",
    "        # RUN THIS IF THERE IS NO ERROR ABOVE\n",
    "        else:\n",
    "            print('THANKS FOR PROVIDING A NUMBER!')\n",
    "            break\n",
    "        \n",
    "        # THIS CODE ALWAYS RUN, WHETHER THERE IS AN ERROR OR NOT\n",
    "        finally:\n",
    "            print('This function requires you to provide a number!')"
   ]
  },
  {
   "cell_type": "code",
   "execution_count": 2,
   "metadata": {},
   "outputs": [
    {
     "name": "stdout",
     "output_type": "stream",
     "text": [
      "What is your favorite number? ben\n",
      "Sorry! Please insert a number!\n",
      "This function requires you to provide a number!\n",
      "What is your favorite number? my\n",
      "Sorry! Please insert a number!\n",
      "This function requires you to provide a number!\n",
      "What is your favorite number? stocks\n",
      "Sorry! Please insert a number!\n",
      "This function requires you to provide a number!\n",
      "What is your favorite number? 10\n",
      "THANKS FOR PROVIDING A NUMBER!\n",
      "This function requires you to provide a number!\n"
     ]
    }
   ],
   "source": [
    "# TRY RUNNING THE FUNCTION\n",
    "favorite_number()"
   ]
  },
  {
   "cell_type": "code",
   "execution_count": null,
   "metadata": {},
   "outputs": [],
   "source": []
  }
 ],
 "metadata": {
  "kernelspec": {
   "display_name": "Python 3",
   "language": "python",
   "name": "python3"
  },
  "language_info": {
   "codemirror_mode": {
    "name": "ipython",
    "version": 3
   },
   "file_extension": ".py",
   "mimetype": "text/x-python",
   "name": "python",
   "nbconvert_exporter": "python",
   "pygments_lexer": "ipython3",
   "version": "3.8.5"
  }
 },
 "nbformat": 4,
 "nbformat_minor": 4
}
