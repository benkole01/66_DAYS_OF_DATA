{
 "cells": [
  {
   "cell_type": "markdown",
   "metadata": {},
   "source": [
    "# Continuing with Python Operations on Lists\n",
    "- This is a continuation of my previous notebook on Python operations on lists.\n",
    "- In this notebook, I will look at *.reverse()*, *.extend()*, *.count()*, *.remove()*, *.copy()* and *.clear()* methods.\n",
    "- Let's get into it."
   ]
  },
  {
   "cell_type": "code",
   "execution_count": 1,
   "metadata": {},
   "outputs": [],
   "source": [
    "# create a list of stocks\n",
    "stocks = ['AAPL', 'GOOG', 'FB', 'AMZN']"
   ]
  },
  {
   "cell_type": "code",
   "execution_count": 2,
   "metadata": {},
   "outputs": [
    {
     "name": "stdout",
     "output_type": "stream",
     "text": [
      "['AAPL', 'GOOG', 'FB', 'AMZN']\n"
     ]
    }
   ],
   "source": [
    "# print the list\n",
    "print(stocks)"
   ]
  },
  {
   "cell_type": "markdown",
   "metadata": {},
   "source": [
    "## *reverse()*\n",
    "- The *.reverse()* method returns a list in a reversed order, i.e items are reversed such that the last item in the original list becomes the first item and the first item becomes the last item in the reversed list.\n",
    "- Take a look:"
   ]
  },
  {
   "cell_type": "code",
   "execution_count": 3,
   "metadata": {},
   "outputs": [],
   "source": [
    "# reverse the list\n",
    "stocks.reverse()"
   ]
  },
  {
   "cell_type": "code",
   "execution_count": 4,
   "metadata": {},
   "outputs": [
    {
     "name": "stdout",
     "output_type": "stream",
     "text": [
      "['AMZN', 'FB', 'GOOG', 'AAPL']\n"
     ]
    }
   ],
   "source": [
    "# print the list\n",
    "print(stocks)"
   ]
  },
  {
   "cell_type": "markdown",
   "metadata": {},
   "source": [
    "Our list is now reversed (this is a permanent change to the list, unless you re-reverse it)."
   ]
  },
  {
   "cell_type": "markdown",
   "metadata": {},
   "source": [
    "## *.extend()*\n",
    "- The *.extend()* method takes an iterable (as the argument) and adds (or appends) its elements to the list.\n",
    "- **Iterables** are objects that can be iterated over in a for loop. Python iterables include lists, tuples and strings.\n",
    "- Each element in the iterable is appended to the list."
   ]
  },
  {
   "cell_type": "code",
   "execution_count": 5,
   "metadata": {},
   "outputs": [
    {
     "name": "stdout",
     "output_type": "stream",
     "text": [
      "['AMZN', 'FB', 'GOOG', 'AAPL']\n"
     ]
    }
   ],
   "source": [
    "# let's check items in our current list\n",
    "print(stocks)"
   ]
  },
  {
   "cell_type": "code",
   "execution_count": 6,
   "metadata": {},
   "outputs": [],
   "source": [
    "# extend the list by passing in a list iterable\n",
    "stocks.extend(['GE', 'UBER'])"
   ]
  },
  {
   "cell_type": "code",
   "execution_count": 7,
   "metadata": {},
   "outputs": [
    {
     "name": "stdout",
     "output_type": "stream",
     "text": [
      "['AMZN', 'FB', 'GOOG', 'AAPL', 'GE', 'UBER']\n"
     ]
    }
   ],
   "source": [
    "# check the list again\n",
    "print(stocks)"
   ]
  },
  {
   "cell_type": "markdown",
   "metadata": {},
   "source": [
    "The elements 'GE' and 'UBER', from the list iterable, have been appended to the list."
   ]
  },
  {
   "cell_type": "code",
   "execution_count": 8,
   "metadata": {},
   "outputs": [],
   "source": [
    "# extend the list by passing in a tuple iterable\n",
    "stocks.extend((20, 40))"
   ]
  },
  {
   "cell_type": "code",
   "execution_count": 9,
   "metadata": {},
   "outputs": [
    {
     "name": "stdout",
     "output_type": "stream",
     "text": [
      "['AMZN', 'FB', 'GOOG', 'AAPL', 'GE', 'UBER', 20, 40]\n"
     ]
    }
   ],
   "source": [
    "print(stocks)"
   ]
  },
  {
   "cell_type": "markdown",
   "metadata": {},
   "source": [
    "Elements 20 and 40 from the tuple have been appended to the list."
   ]
  },
  {
   "cell_type": "code",
   "execution_count": 10,
   "metadata": {},
   "outputs": [],
   "source": [
    "# extend the list by passing in a string iterable\n",
    "stocks.extend('CRYPTO')"
   ]
  },
  {
   "cell_type": "code",
   "execution_count": 11,
   "metadata": {},
   "outputs": [
    {
     "name": "stdout",
     "output_type": "stream",
     "text": [
      "['AMZN', 'FB', 'GOOG', 'AAPL', 'GE', 'UBER', 20, 40, 'C', 'R', 'Y', 'P', 'T', 'O']\n"
     ]
    }
   ],
   "source": [
    "print(stocks)"
   ]
  },
  {
   "cell_type": "markdown",
   "metadata": {},
   "source": [
    "The elements in the string 'CRYPTO', i.e the individual letters, have been appended to the list. Now each letter of the string 'CRYPTO' is an item in the list."
   ]
  },
  {
   "cell_type": "markdown",
   "metadata": {},
   "source": [
    "## *.count()*\n",
    "- The *.count()* method shows how many items a particular item (or value) has appeared in the list."
   ]
  },
  {
   "cell_type": "code",
   "execution_count": 12,
   "metadata": {},
   "outputs": [
    {
     "data": {
      "text/plain": [
       "1"
      ]
     },
     "execution_count": 12,
     "metadata": {},
     "output_type": "execute_result"
    }
   ],
   "source": [
    "# how many times has 'GOOG' appeared\n",
    "stocks.count('GOOG')"
   ]
  },
  {
   "cell_type": "markdown",
   "metadata": {},
   "source": [
    "Let's repeat some items in the list. To do this, we will pass a list inside *.extend()* method"
   ]
  },
  {
   "cell_type": "code",
   "execution_count": 13,
   "metadata": {},
   "outputs": [],
   "source": [
    "stocks.extend(['FB', 'GOOG', 'FB', 20])"
   ]
  },
  {
   "cell_type": "code",
   "execution_count": 14,
   "metadata": {},
   "outputs": [
    {
     "name": "stdout",
     "output_type": "stream",
     "text": [
      "['AMZN', 'FB', 'GOOG', 'AAPL', 'GE', 'UBER', 20, 40, 'C', 'R', 'Y', 'P', 'T', 'O', 'FB', 'GOOG', 'FB', 20]\n"
     ]
    }
   ],
   "source": [
    "print(stocks)"
   ]
  },
  {
   "cell_type": "code",
   "execution_count": 15,
   "metadata": {},
   "outputs": [
    {
     "data": {
      "text/plain": [
       "3"
      ]
     },
     "execution_count": 15,
     "metadata": {},
     "output_type": "execute_result"
    }
   ],
   "source": [
    "# how many times has 'FB' appeared in our new list\n",
    "stocks.count('FB')"
   ]
  },
  {
   "cell_type": "code",
   "execution_count": 16,
   "metadata": {},
   "outputs": [
    {
     "data": {
      "text/plain": [
       "2"
      ]
     },
     "execution_count": 16,
     "metadata": {},
     "output_type": "execute_result"
    }
   ],
   "source": [
    "# how many times has 20 appeared in our new list\n",
    "stocks.count(20)"
   ]
  },
  {
   "cell_type": "markdown",
   "metadata": {},
   "source": [
    "In our new list, 'FB' has appeared 3 times whereas 20 has appeared 2 timess."
   ]
  },
  {
   "cell_type": "markdown",
   "metadata": {},
   "source": [
    "## *.remove()*\n",
    "- The *.remove()* method removes the first occurrence of an item in the list."
   ]
  },
  {
   "cell_type": "code",
   "execution_count": 17,
   "metadata": {},
   "outputs": [],
   "source": [
    "# rewrite the list\n",
    "stocks = ['GOOG', 'AMZN', 'GOOG', 'AMZN', 'AAPL']"
   ]
  },
  {
   "cell_type": "code",
   "execution_count": 18,
   "metadata": {},
   "outputs": [
    {
     "name": "stdout",
     "output_type": "stream",
     "text": [
      "['GOOG', 'AMZN', 'GOOG', 'AMZN', 'AAPL']\n"
     ]
    }
   ],
   "source": [
    "# this is the new list\n",
    "print(stocks)"
   ]
  },
  {
   "cell_type": "code",
   "execution_count": 19,
   "metadata": {},
   "outputs": [],
   "source": [
    "# remove the first occurrence of 'AMZN'\n",
    "stocks.remove('AMZN')"
   ]
  },
  {
   "cell_type": "code",
   "execution_count": 20,
   "metadata": {},
   "outputs": [
    {
     "name": "stdout",
     "output_type": "stream",
     "text": [
      "['GOOG', 'GOOG', 'AMZN', 'AAPL']\n"
     ]
    }
   ],
   "source": [
    "print(stocks)"
   ]
  },
  {
   "cell_type": "markdown",
   "metadata": {},
   "source": [
    "The first appearance of 'AMZN' in the list has been removed (remember it appeared first as the second item in our list)."
   ]
  },
  {
   "cell_type": "markdown",
   "metadata": {},
   "source": [
    "## *.copy()*\n",
    "- The *.copy()* method is used to copy a list to a new object."
   ]
  },
  {
   "cell_type": "code",
   "execution_count": 21,
   "metadata": {},
   "outputs": [
    {
     "name": "stdout",
     "output_type": "stream",
     "text": [
      "['GOOG', 'GOOG', 'AMZN', 'AAPL']\n"
     ]
    }
   ],
   "source": [
    "# print our list\n",
    "print(stocks)"
   ]
  },
  {
   "cell_type": "code",
   "execution_count": 22,
   "metadata": {},
   "outputs": [],
   "source": [
    "# create a copy of the list\n",
    "stocks_copy = stocks.copy()"
   ]
  },
  {
   "cell_type": "code",
   "execution_count": 23,
   "metadata": {},
   "outputs": [
    {
     "name": "stdout",
     "output_type": "stream",
     "text": [
      "['GOOG', 'GOOG', 'AMZN', 'AAPL']\n"
     ]
    }
   ],
   "source": [
    "# print the list copy\n",
    "print(stocks_copy)"
   ]
  },
  {
   "cell_type": "markdown",
   "metadata": {},
   "source": [
    "## *.clear()*\n",
    "- *.clear()* method removes all elements in the list, rendering it empty."
   ]
  },
  {
   "cell_type": "code",
   "execution_count": 24,
   "metadata": {},
   "outputs": [
    {
     "data": {
      "text/plain": [
       "['GOOG', 'GOOG', 'AMZN', 'AAPL']"
      ]
     },
     "execution_count": 24,
     "metadata": {},
     "output_type": "execute_result"
    }
   ],
   "source": [
    "# print our list\n",
    "stocks"
   ]
  },
  {
   "cell_type": "code",
   "execution_count": 25,
   "metadata": {},
   "outputs": [],
   "source": [
    "# clear all elements in the list\n",
    "stocks.clear()"
   ]
  },
  {
   "cell_type": "code",
   "execution_count": 26,
   "metadata": {},
   "outputs": [
    {
     "data": {
      "text/plain": [
       "[]"
      ]
     },
     "execution_count": 26,
     "metadata": {},
     "output_type": "execute_result"
    }
   ],
   "source": [
    "# the list is now empty\n",
    "stocks"
   ]
  },
  {
   "cell_type": "markdown",
   "metadata": {},
   "source": [
    "This marks the end of Python operations on lists.\n",
    "\n",
    "## END - THANKS FOR GOING THROUGH!!!"
   ]
  }
 ],
 "metadata": {
  "kernelspec": {
   "display_name": "Python 3",
   "language": "python",
   "name": "python3"
  },
  "language_info": {
   "codemirror_mode": {
    "name": "ipython",
    "version": 3
   },
   "file_extension": ".py",
   "mimetype": "text/x-python",
   "name": "python",
   "nbconvert_exporter": "python",
   "pygments_lexer": "ipython3",
   "version": "3.8.5"
  }
 },
 "nbformat": 4,
 "nbformat_minor": 4
}
